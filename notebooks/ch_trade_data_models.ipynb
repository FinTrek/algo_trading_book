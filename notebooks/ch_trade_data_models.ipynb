{
 "cells": [
  {
   "cell_type": "code",
   "execution_count": 14,
   "metadata": {
    "collapsed": true
   },
   "outputs": [],
   "source": [
    "%matplotlib inline\n",
    "import pandas as pd"
   ]
  },
  {
   "cell_type": "code",
   "execution_count": 47,
   "metadata": {},
   "outputs": [],
   "source": [
    "amzn_data = pd.read_csv('../datasets/AMZN_170102_171130.txt')\n",
    "amzn_data.columns = ['ticker','interval','date','time','open','high','low','close','volume']\n",
    "amzn_data.drop(['interval'], axis=1,inplace=True)"
   ]
  },
  {
   "cell_type": "code",
   "execution_count": 49,
   "metadata": {},
   "outputs": [
    {
     "data": {
      "text/html": [
       "<div>\n",
       "<style>\n",
       "    .dataframe thead tr:only-child th {\n",
       "        text-align: right;\n",
       "    }\n",
       "\n",
       "    .dataframe thead th {\n",
       "        text-align: left;\n",
       "    }\n",
       "\n",
       "    .dataframe tbody tr th {\n",
       "        vertical-align: top;\n",
       "    }\n",
       "</style>\n",
       "<table border=\"1\" class=\"dataframe\">\n",
       "  <thead>\n",
       "    <tr style=\"text-align: right;\">\n",
       "      <th></th>\n",
       "      <th>ticker</th>\n",
       "      <th>date</th>\n",
       "      <th>time</th>\n",
       "      <th>open</th>\n",
       "      <th>high</th>\n",
       "      <th>low</th>\n",
       "      <th>close</th>\n",
       "      <th>volume</th>\n",
       "    </tr>\n",
       "  </thead>\n",
       "  <tbody>\n",
       "    <tr>\n",
       "      <th>0</th>\n",
       "      <td>AMZN</td>\n",
       "      <td>2017-01-03</td>\n",
       "      <td>10:00:00</td>\n",
       "      <td>154.46</td>\n",
       "      <td>154.49</td>\n",
       "      <td>154.12</td>\n",
       "      <td>154.35</td>\n",
       "      <td>122940</td>\n",
       "    </tr>\n",
       "    <tr>\n",
       "      <th>1</th>\n",
       "      <td>AMZN</td>\n",
       "      <td>2017-01-03</td>\n",
       "      <td>10:01:00</td>\n",
       "      <td>154.33</td>\n",
       "      <td>154.50</td>\n",
       "      <td>154.33</td>\n",
       "      <td>154.42</td>\n",
       "      <td>118790</td>\n",
       "    </tr>\n",
       "    <tr>\n",
       "      <th>2</th>\n",
       "      <td>AMZN</td>\n",
       "      <td>2017-01-03</td>\n",
       "      <td>10:02:00</td>\n",
       "      <td>154.41</td>\n",
       "      <td>154.51</td>\n",
       "      <td>154.37</td>\n",
       "      <td>154.45</td>\n",
       "      <td>30560</td>\n",
       "    </tr>\n",
       "    <tr>\n",
       "      <th>3</th>\n",
       "      <td>AMZN</td>\n",
       "      <td>2017-01-03</td>\n",
       "      <td>10:03:00</td>\n",
       "      <td>154.45</td>\n",
       "      <td>154.47</td>\n",
       "      <td>154.37</td>\n",
       "      <td>154.41</td>\n",
       "      <td>9770</td>\n",
       "    </tr>\n",
       "    <tr>\n",
       "      <th>4</th>\n",
       "      <td>AMZN</td>\n",
       "      <td>2017-01-03</td>\n",
       "      <td>10:04:00</td>\n",
       "      <td>154.44</td>\n",
       "      <td>154.67</td>\n",
       "      <td>154.44</td>\n",
       "      <td>154.67</td>\n",
       "      <td>291200</td>\n",
       "    </tr>\n",
       "  </tbody>\n",
       "</table>\n",
       "</div>"
      ],
      "text/plain": [
       "  ticker       date      time    open    high     low   close  volume\n",
       "0   AMZN 2017-01-03  10:00:00  154.46  154.49  154.12  154.35  122940\n",
       "1   AMZN 2017-01-03  10:01:00  154.33  154.50  154.33  154.42  118790\n",
       "2   AMZN 2017-01-03  10:02:00  154.41  154.51  154.37  154.45   30560\n",
       "3   AMZN 2017-01-03  10:03:00  154.45  154.47  154.37  154.41    9770\n",
       "4   AMZN 2017-01-03  10:04:00  154.44  154.67  154.44  154.67  291200"
      ]
     },
     "execution_count": 49,
     "metadata": {},
     "output_type": "execute_result"
    }
   ],
   "source": [
    "amzn = amzn_data.copy()\n",
    "amzn['date'] = pd.to_datetime(amzn.date,format='%Y%m%d')\n",
    "amzn['time'] = pd.to_datetime(amzn.time,format='%H%M%S').dt.time\n",
    "amzn.head()"
   ]
  },
  {
   "cell_type": "code",
   "execution_count": 50,
   "metadata": {},
   "outputs": [
    {
     "data": {
      "text/plain": [
       "<matplotlib.axes._subplots.AxesSubplot at 0x114dfdef0>"
      ]
     },
     "execution_count": 50,
     "metadata": {},
     "output_type": "execute_result"
    },
    {
     "data": {
      "image/png": "[encoded data removed]",
      "text/plain": [
       "<matplotlib.figure.Figure at 0x119732a58>"
      ]
     },
     "metadata": {},
     "output_type": "display_data"
    }
   ],
   "source": [
    "msft.volume[200:300].plot()"
   ]
  },
  {
   "cell_type": "code",
   "execution_count": null,
   "metadata": {
    "collapsed": true
   },
   "outputs": [],
   "source": []
  }
 ],
 "metadata": {
  "kernelspec": {
   "display_name": "Python 3",
   "language": "python",
   "name": "python3"
  },
  "language_info": {
   "codemirror_mode": {
    "name": "ipython",
    "version": 3
   },
   "file_extension": ".py",
   "mimetype": "text/x-python",
   "name": "python",
   "nbconvert_exporter": "python",
   "pygments_lexer": "ipython3",
   "version": "3.6.1"
  }
 },
 "nbformat": 4,
 "nbformat_minor": 2
}
